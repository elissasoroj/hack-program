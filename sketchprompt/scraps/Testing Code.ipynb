{
 "cells": [
  {
   "cell_type": "code",
   "execution_count": 9,
   "metadata": {},
   "outputs": [],
   "source": [
    "import csv\n",
    "import random\n",
    "import time\n",
    "import playsound"
   ]
  },
  {
   "cell_type": "code",
   "execution_count": null,
   "metadata": {},
   "outputs": [],
   "source": [
    "def timer(t):\n",
    "    \"\"\"\n",
    "    starts a countdown timer; enter time in seconds:\n",
    "    1 min = 60\n",
    "    5 min = 300\n",
    "    10 min = 600\n",
    "    15 min = 900\n",
    "    30 min = 1800\n",
    "    1 hr = 3600\n",
    "    \"\"\"\n",
    "    \n",
    "    while t:\n",
    "        mins, secs = divmod(t, 60)\n",
    "        timeformat = '{:02d}:{:02d}'.format(mins, secs)\n",
    "        print(timeformat, end='\\r')\n",
    "        time.sleep(1)\n",
    "        t -= 1\n",
    "    print(\"Time's Up!\\n\\n\\n\\n\\n\")\n",
    "    from playsound import playsound\n",
    "    playsound('mallet.mp3')\n",
    "    "
   ]
  },
  {
   "cell_type": "code",
   "execution_count": null,
   "metadata": {},
   "outputs": [],
   "source": [
    "timer(5)"
   ]
  },
  {
   "cell_type": "code",
   "execution_count": null,
   "metadata": {},
   "outputs": [],
   "source": [
    "with open('lists/animals.csv', newline='', encoding='utf-8-sig') as f1:\n",
    "        reader1 = csv.reader(f1)\n",
    "        animals = list(reader1)\n",
    "\n",
    "with open('lists/plants.csv', newline='', encoding='utf-8-sig') as f2:\n",
    "        reader2 = csv.reader(f2)\n",
    "        plants = list(reader2)\n",
    "\n",
    "with open('lists/objects.csv', newline='', encoding='utf-8-sig') as f3:\n",
    "        reader3 = csv.reader(f3)\n",
    "        objects = list(reader3)\n",
    "\n",
    "with open('lists/schemes.csv', newline='', encoding='utf-8-sig') as f5:\n",
    "        reader5 = csv.reader(f5)\n",
    "        schemes = list(reader5)"
   ]
  },
  {
   "cell_type": "code",
   "execution_count": null,
   "metadata": {},
   "outputs": [],
   "source": [
    "schemes"
   ]
  },
  {
   "cell_type": "code",
   "execution_count": null,
   "metadata": {},
   "outputs": [],
   "source": [
    "ALLSUB = [animals, plants, objects]"
   ]
  },
  {
   "cell_type": "code",
   "execution_count": null,
   "metadata": {},
   "outputs": [],
   "source": [
    "def colorscheme():\n",
    "    \"returns a color scheme\"\n",
    "    print(random.choice(schemes))   "
   ]
  },
  {
   "cell_type": "code",
   "execution_count": null,
   "metadata": {},
   "outputs": [],
   "source": [
    "colorscheme()"
   ]
  },
  {
   "cell_type": "code",
   "execution_count": null,
   "metadata": {},
   "outputs": [],
   "source": [
    "print(random.choice(objects))"
   ]
  },
  {
   "cell_type": "code",
   "execution_count": null,
   "metadata": {},
   "outputs": [],
   "source": [
    "rand = random.choice(ALLSUB)\n",
    "print(random.choice(rand))"
   ]
  },
  {
   "cell_type": "code",
   "execution_count": null,
   "metadata": {},
   "outputs": [],
   "source": [
    "rand = random.choice(ALLSUB)"
   ]
  },
  {
   "cell_type": "code",
   "execution_count": null,
   "metadata": {},
   "outputs": [],
   "source": [
    "rand"
   ]
  },
  {
   "cell_type": "code",
   "execution_count": null,
   "metadata": {},
   "outputs": [],
   "source": [
    "print(random.choice(rand))"
   ]
  },
  {
   "cell_type": "code",
   "execution_count": null,
   "metadata": {},
   "outputs": [],
   "source": [
    "def subject(arg):\n",
    "    \"returns a subject\"\n",
    "\n",
    "    if arg == \"animal\":\n",
    "        print(random.choice(animals))\n",
    "\n",
    "    elif arg == \"plant\":\n",
    "        print(random.choice(plants))\n",
    "\n",
    "    elif arg == \"object\":\n",
    "        print(random.choice(objects))\n",
    "\n",
    "    else:\n",
    "        rand = random.choice(ALLSUB)\n",
    "        print(random.choice(rand))"
   ]
  },
  {
   "cell_type": "code",
   "execution_count": null,
   "metadata": {},
   "outputs": [],
   "source": [
    "subject(\"\")"
   ]
  },
  {
   "cell_type": "code",
   "execution_count": null,
   "metadata": {},
   "outputs": [],
   "source": [
    "from playsound import playsound\n",
    "\n",
    "playsound('mallet.mp3')"
   ]
  },
  {
   "cell_type": "code",
   "execution_count": null,
   "metadata": {},
   "outputs": [
    {
     "name": "stdout",
     "output_type": "stream",
     "text": [
      "iris\n",
      "10 minute(s)\n",
      "triad\n",
      "yellow\n",
      "04:26\r"
     ]
    }
   ],
   "source": [
    "#!/usr/bin/env python\n",
    "\n",
    "\"\"\"\n",
    "A function that generates a random sketch prompt with options:\n",
    "1. subject\n",
    "2. time limit\n",
    "3. color scheme\n",
    "4. main hue\n",
    "\n",
    "Also provides a countdown timer\n",
    "\n",
    "\"\"\"\n",
    "import csv\n",
    "import random\n",
    "import time\n",
    "\n",
    "\n",
    "# Read in lists\n",
    "with open('lists/animals.csv', newline='', encoding='utf-8-sig') as f1:\n",
    "        reader1 = csv.reader(f1)\n",
    "        animals = list(reader1)\n",
    "\n",
    "with open('lists/plants.csv', newline='', encoding='utf-8-sig') as f2:\n",
    "        reader2 = csv.reader(f2)\n",
    "        plants = list(reader2)\n",
    "\n",
    "with open('lists/objects.csv', newline='', encoding='utf-8-sig') as f3:\n",
    "        reader3 = csv.reader(f3)\n",
    "        objects = list(reader3)\n",
    "\n",
    "with open('lists/limits.csv', newline='', encoding='utf-8-sig') as f4:\n",
    "        reader4 = csv.reader(f4)\n",
    "        limits = list(reader4)\n",
    "\n",
    "with open('lists/schemes.csv', newline='', encoding='utf-8-sig') as f5:\n",
    "        reader5 = csv.reader(f5)\n",
    "        schemes = list(reader5)\n",
    "\n",
    "with open('lists/colors.csv', newline='', encoding='utf-8-sig') as f6:\n",
    "        reader6 = csv.reader(f6)\n",
    "        colors = list(reader6)\n",
    "\n",
    "#Define variables\n",
    "ALLSUB = [animals, plants, objects]\n",
    "timeout = []\n",
    "timetosec = {}\n",
    "\n",
    "def prompt(arg):\n",
    "    \"\"\"\n",
    "    returns a sketch prompt\n",
    "    \"\"\"\n",
    "\n",
    "def subject(arg):\n",
    "    \"returns a subject\"\n",
    "\n",
    "    if arg == \"animal\":\n",
    "        print(random.choice(animals))\n",
    "\n",
    "    elif arg == \"plant\":\n",
    "        print(random.choice(plants))\n",
    "\n",
    "    elif arg == \"object\":\n",
    "        print(random.choice(objects))\n",
    "\n",
    "    else:\n",
    "        rand = random.choice(ALLSUB)\n",
    "        print(*random.choice(rand))\n",
    "\n",
    "\n",
    "\n",
    "def timelimit():\n",
    "    \"returns a time limit\"\n",
    "    timelimit.timeout = random.choice(limits)\n",
    "    timelimit.timetosec = int(timelimit.timeout[0])*60\n",
    "    print(timelimit.timeout[0], \"minute(s)\")\n",
    "    \n",
    "\n",
    "def colorscheme():\n",
    "    \"returns a color scheme\"\n",
    "    print(*random.choice(schemes))\n",
    "\n",
    "def color():\n",
    "    \"returns a main color for the color scheme\"\n",
    "    print(*random.choice(colors))  \n",
    "\n",
    "def timer(t):\n",
    "    \"\"\"\n",
    "    starts a countdown timer; enter time in seconds:\n",
    "    1 min = 60\n",
    "    5 min = 300\n",
    "    10 min = 600\n",
    "    15 min = 900\n",
    "    30 min = 1800\n",
    "    1 hr = 3600\n",
    "    ---\n",
    "    Timer requires PyObjC  and playsound modules\n",
    "    pip3 install -U PyObjC\n",
    "    pip3 install playsound\n",
    "    \"\"\"\n",
    "    while t:\n",
    "        mins, secs = divmod(t, 60)\n",
    "        timeformat = '{:02d}:{:02d}'.format(mins, secs)\n",
    "        print(timeformat, end='\\r')\n",
    "        time.sleep(1)\n",
    "        t -= 1\n",
    "    from playsound import playsound\n",
    "    playsound('mallet.mp3')\n",
    "    print(\"Time's Up!\\n\\n\\n\\n\\n\")\n",
    "\n",
    "\n",
    "if __name__ == \"__main__\":\n",
    "    subject(\"\")\n",
    "    timelimit()\n",
    "    colorscheme()\n",
    "    color()\n",
    "    timer(timelimit.timetosec)"
   ]
  },
  {
   "cell_type": "code",
   "execution_count": null,
   "metadata": {},
   "outputs": [],
   "source": [
    "with open('lists/limits.csv', newline='', encoding='utf-8-sig') as f4:\n",
    "        reader4 = csv.reader(f4)\n",
    "        limits = list(reader4)"
   ]
  },
  {
   "cell_type": "code",
   "execution_count": null,
   "metadata": {},
   "outputs": [],
   "source": [
    "limits"
   ]
  },
  {
   "cell_type": "code",
   "execution_count": null,
   "metadata": {},
   "outputs": [],
   "source": []
  },
  {
   "cell_type": "code",
   "execution_count": null,
   "metadata": {},
   "outputs": [],
   "source": []
  },
  {
   "cell_type": "code",
   "execution_count": null,
   "metadata": {},
   "outputs": [],
   "source": [
    "with open('lists/colors.csv', newline='', encoding='utf-8-sig') as f6:\n",
    "        reader6 = csv.reader(f6)\n",
    "        colors = list(reader6)"
   ]
  },
  {
   "cell_type": "code",
   "execution_count": null,
   "metadata": {},
   "outputs": [],
   "source": [
    "timeout=\"\"\n",
    "timetosec={}\n",
    "\n",
    "def timelimit():\n",
    "    \"returns a time limit\"\n",
    "    timeout = random.choice(limits)\n",
    "    timetosec = timeout*60\n",
    "    print(*timeout, \"minute(s)\")"
   ]
  },
  {
   "cell_type": "code",
   "execution_count": null,
   "metadata": {},
   "outputs": [],
   "source": [
    "timelimit()\n",
    "timetosec"
   ]
  },
  {
   "cell_type": "code",
   "execution_count": null,
   "metadata": {},
   "outputs": [],
   "source": [
    "timeout = random.choice(limits)"
   ]
  },
  {
   "cell_type": "code",
   "execution_count": 25,
   "metadata": {},
   "outputs": [
    {
     "name": "stdout",
     "output_type": "stream",
     "text": [
      "minute(s)\n"
     ]
    },
    {
     "data": {
      "text/plain": [
       "900"
      ]
     },
     "execution_count": 25,
     "metadata": {},
     "output_type": "execute_result"
    }
   ],
   "source": [
    "timeout = []\n",
    "timetosec = {}\n",
    "\n",
    "def timelimit():\n",
    "    \"returns a time limit\"\n",
    "    timelimit.timeout = random.choice(limits)\n",
    "    timelimit.timetosec = int(timelimit.timeout[0])*60\n",
    "    print(*timeout, \"minute(s)\")\n",
    "\n",
    "def timer(t):\n",
    "    \"\"\"\n",
    "    starts a countdown timer; enter time in seconds:\n",
    "    1 min = 60\n",
    "    5 min = 300\n",
    "    10 min = 600\n",
    "    15 min = 900\n",
    "    30 min = 1800\n",
    "    1 hr = 3600\n",
    "    ---\n",
    "    Timer requires PyObjC  and playsound modules\n",
    "    pip3 install -U PyObjC\n",
    "    pip3 install playsound\n",
    "    \"\"\"\n",
    "    while t:\n",
    "        mins, secs = divmod(t, 60)\n",
    "        timeformat = '{:02d}:{:02d}'.format(mins, secs)\n",
    "        print(timeformat, end='\\r')\n",
    "        time.sleep(1)\n",
    "        t -= 1\n",
    "    from playsound import playsound\n",
    "    playsound('mallet.mp3')\n",
    "    print(\"Time's Up!\\n\\n\\n\\n\\n\")   \n",
    "    \n",
    "timelimit()\n",
    "timelimit.timetosec"
   ]
  },
  {
   "cell_type": "code",
   "execution_count": 23,
   "metadata": {},
   "outputs": [
    {
     "data": {
      "text/plain": [
       "1"
      ]
     },
     "execution_count": 23,
     "metadata": {},
     "output_type": "execute_result"
    }
   ],
   "source": [
    "int(timelimit.timeout[0])"
   ]
  },
  {
   "cell_type": "code",
   "execution_count": null,
   "metadata": {},
   "outputs": [],
   "source": [
    "str = timelimit.timeout[0]"
   ]
  },
  {
   "cell_type": "code",
   "execution_count": null,
   "metadata": {},
   "outputs": [],
   "source": []
  },
  {
   "cell_type": "code",
   "execution_count": null,
   "metadata": {},
   "outputs": [],
   "source": []
  },
  {
   "cell_type": "code",
   "execution_count": 1,
   "metadata": {},
   "outputs": [],
   "source": [
    "string = \"10\""
   ]
  },
  {
   "cell_type": "code",
   "execution_count": 2,
   "metadata": {},
   "outputs": [
    {
     "data": {
      "text/plain": [
       "'10'"
      ]
     },
     "execution_count": 2,
     "metadata": {},
     "output_type": "execute_result"
    }
   ],
   "source": [
    "string\n"
   ]
  },
  {
   "cell_type": "code",
   "execution_count": 3,
   "metadata": {},
   "outputs": [
    {
     "data": {
      "text/plain": [
       "10"
      ]
     },
     "execution_count": 3,
     "metadata": {},
     "output_type": "execute_result"
    }
   ],
   "source": [
    "int(string)"
   ]
  },
  {
   "cell_type": "code",
   "execution_count": null,
   "metadata": {},
   "outputs": [],
   "source": []
  }
 ],
 "metadata": {
  "kernelspec": {
   "display_name": "Python 3",
   "language": "python",
   "name": "python3"
  },
  "language_info": {
   "codemirror_mode": {
    "name": "ipython",
    "version": 3
   },
   "file_extension": ".py",
   "mimetype": "text/x-python",
   "name": "python",
   "nbconvert_exporter": "python",
   "pygments_lexer": "ipython3",
   "version": "3.8.6"
  }
 },
 "nbformat": 4,
 "nbformat_minor": 4
}
