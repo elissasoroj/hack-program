{
 "cells": [
  {
   "cell_type": "code",
   "execution_count": 30,
   "metadata": {},
   "outputs": [],
   "source": [
    "import csv\n",
    "import random\n",
    "import time\n",
    "import playsound\n",
    "import pandas as pd\n",
    "import numpy as np\n",
    "import os"
   ]
  },
  {
   "cell_type": "markdown",
   "metadata": {},
   "source": [
    "## Testing GBIF Datasets"
   ]
  },
  {
   "cell_type": "code",
   "execution_count": 153,
   "metadata": {},
   "outputs": [
    {
     "data": {
      "text/plain": [
       "array(['Actinopterygii', 'Amphibia', 'Appendicularia', 'Ascidiacea',\n",
       "       'Aves', 'Cephalaspidomorphi', 'class', 'Elasmobranchii',\n",
       "       'Holocephali', 'Leptocardii', 'Mammalia', 'Myxini', 'Reptilia',\n",
       "       'Sarcopterygii', 'Thaliacea', nan], dtype=object)"
      ]
     },
     "execution_count": 153,
     "metadata": {},
     "output_type": "execute_result"
    }
   ],
   "source": [
    "chordata_raw = pd.read_csv('../lists/chordata.csv')\n",
    "chordata_raw.head()\n",
    "chordata_raw['class'].unique()"
   ]
  },
  {
   "cell_type": "code",
   "execution_count": 144,
   "metadata": {},
   "outputs": [
    {
     "data": {
      "text/html": [
       "<div>\n",
       "<style scoped>\n",
       "    .dataframe tbody tr th:only-of-type {\n",
       "        vertical-align: middle;\n",
       "    }\n",
       "\n",
       "    .dataframe tbody tr th {\n",
       "        vertical-align: top;\n",
       "    }\n",
       "\n",
       "    .dataframe thead th {\n",
       "        text-align: right;\n",
       "    }\n",
       "</style>\n",
       "<table border=\"1\" class=\"dataframe\">\n",
       "  <thead>\n",
       "    <tr style=\"text-align: right;\">\n",
       "      <th></th>\n",
       "      <th>n</th>\n",
       "    </tr>\n",
       "    <tr>\n",
       "      <th>class</th>\n",
       "      <th></th>\n",
       "    </tr>\n",
       "  </thead>\n",
       "  <tbody>\n",
       "    <tr>\n",
       "      <th>Actinopterygii</th>\n",
       "      <td>58523</td>\n",
       "    </tr>\n",
       "    <tr>\n",
       "      <th>Amphibia</th>\n",
       "      <td>11993</td>\n",
       "    </tr>\n",
       "    <tr>\n",
       "      <th>Appendicularia</th>\n",
       "      <td>71</td>\n",
       "    </tr>\n",
       "    <tr>\n",
       "      <th>Ascidiacea</th>\n",
       "      <td>3167</td>\n",
       "    </tr>\n",
       "    <tr>\n",
       "      <th>Aves</th>\n",
       "      <td>32048</td>\n",
       "    </tr>\n",
       "    <tr>\n",
       "      <th>Cephalaspidomorphi</th>\n",
       "      <td>167</td>\n",
       "    </tr>\n",
       "    <tr>\n",
       "      <th>Elasmobranchii</th>\n",
       "      <td>2840</td>\n",
       "    </tr>\n",
       "    <tr>\n",
       "      <th>Holocephali</th>\n",
       "      <td>257</td>\n",
       "    </tr>\n",
       "    <tr>\n",
       "      <th>Leptocardii</th>\n",
       "      <td>44</td>\n",
       "    </tr>\n",
       "    <tr>\n",
       "      <th>Mammalia</th>\n",
       "      <td>24647</td>\n",
       "    </tr>\n",
       "    <tr>\n",
       "      <th>Myxini</th>\n",
       "      <td>115</td>\n",
       "    </tr>\n",
       "    <tr>\n",
       "      <th>Reptilia</th>\n",
       "      <td>24427</td>\n",
       "    </tr>\n",
       "    <tr>\n",
       "      <th>Sarcopterygii</th>\n",
       "      <td>369</td>\n",
       "    </tr>\n",
       "    <tr>\n",
       "      <th>Thaliacea</th>\n",
       "      <td>115</td>\n",
       "    </tr>\n",
       "    <tr>\n",
       "      <th>class</th>\n",
       "      <td>1</td>\n",
       "    </tr>\n",
       "  </tbody>\n",
       "</table>\n",
       "</div>"
      ],
      "text/plain": [
       "                        n\n",
       "class                    \n",
       "Actinopterygii      58523\n",
       "Amphibia            11993\n",
       "Appendicularia         71\n",
       "Ascidiacea           3167\n",
       "Aves                32048\n",
       "Cephalaspidomorphi    167\n",
       "Elasmobranchii       2840\n",
       "Holocephali           257\n",
       "Leptocardii            44\n",
       "Mammalia            24647\n",
       "Myxini                115\n",
       "Reptilia            24427\n",
       "Sarcopterygii         369\n",
       "Thaliacea             115\n",
       "class                   1"
      ]
     },
     "execution_count": 144,
     "metadata": {},
     "output_type": "execute_result"
    }
   ],
   "source": [
    "classnum = pd.DataFrame(chordata_raw.groupby(\"class\").size())\n",
    "classnum.columns=[\"n\"]\n",
    "classnum"
   ]
  },
  {
   "cell_type": "code",
   "execution_count": 168,
   "metadata": {},
   "outputs": [
    {
     "data": {
      "text/html": [
       "<div>\n",
       "<style scoped>\n",
       "    .dataframe tbody tr th:only-of-type {\n",
       "        vertical-align: middle;\n",
       "    }\n",
       "\n",
       "    .dataframe tbody tr th {\n",
       "        vertical-align: top;\n",
       "    }\n",
       "\n",
       "    .dataframe thead th {\n",
       "        text-align: right;\n",
       "    }\n",
       "</style>\n",
       "<table border=\"1\" class=\"dataframe\">\n",
       "  <thead>\n",
       "    <tr style=\"text-align: right;\">\n",
       "      <th></th>\n",
       "      <th>class</th>\n",
       "      <th>cat</th>\n",
       "    </tr>\n",
       "  </thead>\n",
       "  <tbody>\n",
       "    <tr>\n",
       "      <th>0</th>\n",
       "      <td>Actinopterygii</td>\n",
       "      <td>fish</td>\n",
       "    </tr>\n",
       "    <tr>\n",
       "      <th>1</th>\n",
       "      <td>Amphibia</td>\n",
       "      <td>herp</td>\n",
       "    </tr>\n",
       "    <tr>\n",
       "      <th>2</th>\n",
       "      <td>Appendicularia</td>\n",
       "      <td>weird</td>\n",
       "    </tr>\n",
       "    <tr>\n",
       "      <th>3</th>\n",
       "      <td>Ascidiacea</td>\n",
       "      <td>weird</td>\n",
       "    </tr>\n",
       "    <tr>\n",
       "      <th>4</th>\n",
       "      <td>Aves</td>\n",
       "      <td>bird</td>\n",
       "    </tr>\n",
       "    <tr>\n",
       "      <th>5</th>\n",
       "      <td>Cephalaspidomorphi</td>\n",
       "      <td>fish</td>\n",
       "    </tr>\n",
       "    <tr>\n",
       "      <th>6</th>\n",
       "      <td>Elasmobranchii</td>\n",
       "      <td>fish</td>\n",
       "    </tr>\n",
       "    <tr>\n",
       "      <th>7</th>\n",
       "      <td>Holocephali</td>\n",
       "      <td>fish</td>\n",
       "    </tr>\n",
       "    <tr>\n",
       "      <th>8</th>\n",
       "      <td>Leptocardii</td>\n",
       "      <td>weird</td>\n",
       "    </tr>\n",
       "    <tr>\n",
       "      <th>9</th>\n",
       "      <td>Mammalia</td>\n",
       "      <td>mammal</td>\n",
       "    </tr>\n",
       "    <tr>\n",
       "      <th>10</th>\n",
       "      <td>Myxini</td>\n",
       "      <td>fish</td>\n",
       "    </tr>\n",
       "    <tr>\n",
       "      <th>11</th>\n",
       "      <td>Reptilia</td>\n",
       "      <td>herp</td>\n",
       "    </tr>\n",
       "    <tr>\n",
       "      <th>12</th>\n",
       "      <td>Sarcopterygii</td>\n",
       "      <td>fish</td>\n",
       "    </tr>\n",
       "    <tr>\n",
       "      <th>13</th>\n",
       "      <td>Thaliacea</td>\n",
       "      <td>weird</td>\n",
       "    </tr>\n",
       "    <tr>\n",
       "      <th>14</th>\n",
       "      <td>class</td>\n",
       "      <td>wrong</td>\n",
       "    </tr>\n",
       "  </tbody>\n",
       "</table>\n",
       "</div>"
      ],
      "text/plain": [
       "                 class     cat\n",
       "0       Actinopterygii    fish\n",
       "1             Amphibia    herp\n",
       "2       Appendicularia   weird\n",
       "3           Ascidiacea   weird\n",
       "4                 Aves    bird\n",
       "5   Cephalaspidomorphi    fish\n",
       "6       Elasmobranchii    fish\n",
       "7          Holocephali    fish\n",
       "8          Leptocardii   weird\n",
       "9             Mammalia  mammal\n",
       "10              Myxini    fish\n",
       "11            Reptilia    herp\n",
       "12       Sarcopterygii    fish\n",
       "13           Thaliacea   weird\n",
       "14               class   wrong"
      ]
     },
     "execution_count": 168,
     "metadata": {},
     "output_type": "execute_result"
    }
   ],
   "source": [
    "classes = pd.DataFrame(chordata_raw.groupby(\"class\"))\n",
    "cat = [\"fish\", \"herp\", \"weird\", \"weird\", \"bird\", \"fish\", \"fish\", \"fish\", \"weird\", \"mammal\", \"fish\", \"herp\", \"fish\", \"weird\", \"wrong\"]\n",
    "classes['cat'] = cat\n",
    "classcat = classes.drop(columns=[1])\n",
    "classcat.columns = [\"class\", \"cat\"]\n",
    "classcat.to_csv('../lists/classcat.csv', index=False)\n",
    "classcat"
   ]
  },
  {
   "cell_type": "code",
   "execution_count": 110,
   "metadata": {},
   "outputs": [],
   "source": [
    "#masks\n",
    "rayfish = chordata_raw['class'] == 'Actinopterygii'\n",
    "tunicates = chordata_raw['class'] == 'Ascidiacea'\n",
    "birds = chordata_raw['class'] == 'Aves'\n",
    "jawlessfish = chordata_raw['class'] == 'Cephalaspidomorphi'\n",
    "sharks = chordata_raw['class'] == 'Elasmobranchii'\n",
    "chimaeras = chordata_raw['class'] == 'Holocephali'\n",
    "amphioxis = chordata_raw['class'] == 'Leptocardii'\n",
    "mammals = chordata_raw['class'] == 'Mammalia'\n",
    "hagfish = chordata_raw['class'] == 'Myxini'\n",
    "reptiles = chordata_raw['class'] == 'Reptilia'\n",
    "lobefish = chordata_raw['class'] == 'Sarcopterygii'\n"
   ]
  },
  {
   "cell_type": "code",
   "execution_count": 93,
   "metadata": {},
   "outputs": [
    {
     "data": {
      "text/plain": [
       "322426"
      ]
     },
     "execution_count": 93,
     "metadata": {},
     "output_type": "execute_result"
    }
   ],
   "source": [
    "population_dict = {'rayfish': rayfish.shape[0],\n",
    "                   'tunicates': tunicates,\n",
    "                   'jawlessfish': jawlessfish,\n",
    "                   'sharks': sharks,\n",
    "                   'chimaeras': chimaeras\n",
    "                   'amphioxis': rayfish.shape[0],\n",
    "                   'tunicates': tunicates,\n",
    "                   'mammals': jawlessfish,\n",
    "                   'sharks': sharks,\n",
    "                   'chimaeras': chimaeras\n",
    "                  }\n",
    "\n",
    "rayfish.shape[0]+lobefish.shape[0]\n"
   ]
  },
  {
   "cell_type": "code",
   "execution_count": 64,
   "metadata": {},
   "outputs": [
    {
     "data": {
      "text/html": [
       "<div>\n",
       "<style scoped>\n",
       "    .dataframe tbody tr th:only-of-type {\n",
       "        vertical-align: middle;\n",
       "    }\n",
       "\n",
       "    .dataframe tbody tr th {\n",
       "        vertical-align: top;\n",
       "    }\n",
       "\n",
       "    .dataframe thead th {\n",
       "        text-align: right;\n",
       "    }\n",
       "</style>\n",
       "<table border=\"1\" class=\"dataframe\">\n",
       "  <thead>\n",
       "    <tr style=\"text-align: right;\">\n",
       "      <th></th>\n",
       "      <th>Kingdom</th>\n",
       "      <th>Phylum</th>\n",
       "      <th>Class</th>\n",
       "      <th>Order</th>\n",
       "      <th>Family</th>\n",
       "      <th>Genus</th>\n",
       "      <th>species</th>\n",
       "    </tr>\n",
       "  </thead>\n",
       "  <tbody>\n",
       "    <tr>\n",
       "      <th>0</th>\n",
       "      <td>Plantae</td>\n",
       "      <td>Tracheophyta</td>\n",
       "      <td>Magnoliopsida</td>\n",
       "      <td>Magnoliales</td>\n",
       "      <td>Myristicaceae</td>\n",
       "      <td>Myristica</td>\n",
       "      <td>Myristica inutilis</td>\n",
       "    </tr>\n",
       "    <tr>\n",
       "      <th>1</th>\n",
       "      <td>Plantae</td>\n",
       "      <td>Tracheophyta</td>\n",
       "      <td>Magnoliopsida</td>\n",
       "      <td>Geraniales</td>\n",
       "      <td>Geraniaceae</td>\n",
       "      <td>Erodium</td>\n",
       "      <td>Erodium absinthoides</td>\n",
       "    </tr>\n",
       "    <tr>\n",
       "      <th>2</th>\n",
       "      <td>Plantae</td>\n",
       "      <td>Tracheophyta</td>\n",
       "      <td>Magnoliopsida</td>\n",
       "      <td>Rosales</td>\n",
       "      <td>Rosaceae</td>\n",
       "      <td>Sorbus</td>\n",
       "      <td>Sorbus aucuparia</td>\n",
       "    </tr>\n",
       "    <tr>\n",
       "      <th>3</th>\n",
       "      <td>Plantae</td>\n",
       "      <td>Tracheophyta</td>\n",
       "      <td>Magnoliopsida</td>\n",
       "      <td>Malpighiales</td>\n",
       "      <td>Salicaceae</td>\n",
       "      <td>Salix</td>\n",
       "      <td>Salix pellita</td>\n",
       "    </tr>\n",
       "    <tr>\n",
       "      <th>4</th>\n",
       "      <td>Plantae</td>\n",
       "      <td>Tracheophyta</td>\n",
       "      <td>Magnoliopsida</td>\n",
       "      <td>Solanales</td>\n",
       "      <td>Convolvulaceae</td>\n",
       "      <td>Evolvulus</td>\n",
       "      <td>Evolvulus alsinoides</td>\n",
       "    </tr>\n",
       "  </tbody>\n",
       "</table>\n",
       "</div>"
      ],
      "text/plain": [
       "   Kingdom        Phylum          Class         Order          Family  \\\n",
       "0  Plantae  Tracheophyta  Magnoliopsida   Magnoliales   Myristicaceae   \n",
       "1  Plantae  Tracheophyta  Magnoliopsida    Geraniales     Geraniaceae   \n",
       "2  Plantae  Tracheophyta  Magnoliopsida       Rosales        Rosaceae   \n",
       "3  Plantae  Tracheophyta  Magnoliopsida  Malpighiales      Salicaceae   \n",
       "4  Plantae  Tracheophyta  Magnoliopsida     Solanales  Convolvulaceae   \n",
       "\n",
       "       Genus               species  \n",
       "0  Myristica    Myristica inutilis  \n",
       "1    Erodium  Erodium absinthoides  \n",
       "2     Sorbus      Sorbus aucuparia  \n",
       "3      Salix         Salix pellita  \n",
       "4  Evolvulus  Evolvulus alsinoides  "
      ]
     },
     "execution_count": 64,
     "metadata": {},
     "output_type": "execute_result"
    }
   ],
   "source": [
    "plantae_raw = pd.read_csv('../lists/plantae.csv')\n",
    "plantae_raw.head()"
   ]
  },
  {
   "cell_type": "code",
   "execution_count": 66,
   "metadata": {},
   "outputs": [
    {
     "data": {
      "text/plain": [
       "0      Myristica inutilis\n",
       "1    Erodium absinthoides\n",
       "2        Sorbus aucuparia\n",
       "3           Salix pellita\n",
       "4    Evolvulus alsinoides\n",
       "Name: species, dtype: object"
      ]
     },
     "execution_count": 66,
     "metadata": {},
     "output_type": "execute_result"
    }
   ],
   "source": [
    "plantae = plantae_raw['species']\n",
    "plantae.head()"
   ]
  },
  {
   "cell_type": "code",
   "execution_count": 67,
   "metadata": {},
   "outputs": [
    {
     "name": "stdout",
     "output_type": "stream",
     "text": [
      "102120    Myosotis olympica\n"
     ]
    }
   ],
   "source": [
    "print(plantae.sample().to_string())"
   ]
  },
  {
   "cell_type": "code",
   "execution_count": 16,
   "metadata": {},
   "outputs": [
    {
     "data": {
      "text/html": [
       "<div>\n",
       "<style scoped>\n",
       "    .dataframe tbody tr th:only-of-type {\n",
       "        vertical-align: middle;\n",
       "    }\n",
       "\n",
       "    .dataframe tbody tr th {\n",
       "        vertical-align: top;\n",
       "    }\n",
       "\n",
       "    .dataframe thead th {\n",
       "        text-align: right;\n",
       "    }\n",
       "</style>\n",
       "<table border=\"1\" class=\"dataframe\">\n",
       "  <thead>\n",
       "    <tr style=\"text-align: right;\">\n",
       "      <th></th>\n",
       "      <th>type</th>\n",
       "      <th>data</th>\n",
       "      <th>category</th>\n",
       "    </tr>\n",
       "  </thead>\n",
       "  <tbody>\n",
       "    <tr>\n",
       "      <th>0</th>\n",
       "      <td>subject</td>\n",
       "      <td>mole salamander</td>\n",
       "      <td>animal</td>\n",
       "    </tr>\n",
       "    <tr>\n",
       "      <th>1</th>\n",
       "      <td>subject</td>\n",
       "      <td>elephant shrew</td>\n",
       "      <td>animal</td>\n",
       "    </tr>\n",
       "    <tr>\n",
       "      <th>2</th>\n",
       "      <td>subject</td>\n",
       "      <td>pika</td>\n",
       "      <td>animal</td>\n",
       "    </tr>\n",
       "    <tr>\n",
       "      <th>3</th>\n",
       "      <td>subject</td>\n",
       "      <td>harpy eagle</td>\n",
       "      <td>animal</td>\n",
       "    </tr>\n",
       "    <tr>\n",
       "      <th>4</th>\n",
       "      <td>subject</td>\n",
       "      <td>kea</td>\n",
       "      <td>animal</td>\n",
       "    </tr>\n",
       "  </tbody>\n",
       "</table>\n",
       "</div>"
      ],
      "text/plain": [
       "      type             data category\n",
       "0  subject  mole salamander   animal\n",
       "1  subject   elephant shrew   animal\n",
       "2  subject             pika   animal\n",
       "3  subject      harpy eagle   animal\n",
       "4  subject              kea   animal"
      ]
     },
     "execution_count": 16,
     "metadata": {},
     "output_type": "execute_result"
    }
   ],
   "source": [
    "master = pd.read_csv('../lists/master.csv')\n",
    "master.head()"
   ]
  },
  {
   "cell_type": "code",
   "execution_count": 45,
   "metadata": {},
   "outputs": [
    {
     "data": {
      "text/html": [
       "<div>\n",
       "<style scoped>\n",
       "    .dataframe tbody tr th:only-of-type {\n",
       "        vertical-align: middle;\n",
       "    }\n",
       "\n",
       "    .dataframe tbody tr th {\n",
       "        vertical-align: top;\n",
       "    }\n",
       "\n",
       "    .dataframe thead th {\n",
       "        text-align: right;\n",
       "    }\n",
       "</style>\n",
       "<table border=\"1\" class=\"dataframe\">\n",
       "  <thead>\n",
       "    <tr style=\"text-align: right;\">\n",
       "      <th></th>\n",
       "      <th>type</th>\n",
       "      <th>data</th>\n",
       "      <th>category</th>\n",
       "    </tr>\n",
       "  </thead>\n",
       "  <tbody>\n",
       "    <tr>\n",
       "      <th>24</th>\n",
       "      <td>subject</td>\n",
       "      <td>gila monster</td>\n",
       "      <td>animal</td>\n",
       "    </tr>\n",
       "  </tbody>\n",
       "</table>\n",
       "</div>"
      ],
      "text/plain": [
       "       type          data category\n",
       "24  subject  gila monster   animal"
      ]
     },
     "execution_count": 45,
     "metadata": {},
     "output_type": "execute_result"
    }
   ],
   "source": [
    "#masks\n",
    "allsub = master['type'] == 'subject'\n",
    "animals = master['category'] == 'animal'\n",
    "plants = master['category'] == 'plant'\n",
    "objects = master['category'] == 'household object'\n",
    "colors = master['type'] == 'color'\n",
    "schemes = master['type'] == 'scheme'\n",
    "limits = master['type'] == 'limits'\n",
    "\n",
    "master[allsub].sample()"
   ]
  },
  {
   "cell_type": "code",
   "execution_count": 36,
   "metadata": {},
   "outputs": [
    {
     "data": {
      "text/plain": [
       "58    dumbbell\n",
       "Name: data, dtype: object"
      ]
     },
     "execution_count": 36,
     "metadata": {},
     "output_type": "execute_result"
    }
   ],
   "source": [
    "master.loc[master['type'] == 'subject']['data'].sample()"
   ]
  },
  {
   "cell_type": "code",
   "execution_count": 62,
   "metadata": {},
   "outputs": [
    {
     "name": "stdout",
     "output_type": "stream",
     "text": [
      "33    okapi\n"
     ]
    }
   ],
   "source": [
    "print(master.loc[animals]['data'].sample().to_string())"
   ]
  },
  {
   "cell_type": "code",
   "execution_count": 37,
   "metadata": {},
   "outputs": [
    {
     "name": "stdout",
     "output_type": "stream",
     "text": [
      "     A      B  C   D\n",
      "0  foo    one  0   0\n",
      "1  bar    one  1   2\n",
      "2  foo    two  2   4\n",
      "3  bar  three  3   6\n",
      "4  foo    two  4   8\n",
      "5  bar    two  5  10\n",
      "6  foo    one  6  12\n",
      "7  foo  three  7  14\n",
      "[7]\n",
      "['foo']\n"
     ]
    }
   ],
   "source": [
    "## examples from stack exchange\n",
    "df = pd.DataFrame({'A': 'foo bar foo bar foo bar foo foo'.split(),\n",
    "               'B': 'one one two three two two one three'.split(),\n",
    "               'C': np.arange(8), 'D': np.arange(8) * 2})\n",
    "print(df)\n",
    "\n",
    "print(df.loc[df['D'] == 14]['A'].index.values)\n",
    "\n",
    "print(df.loc[df['D'] == 14]['A'].values)"
   ]
  },
  {
   "cell_type": "code",
   "execution_count": 85,
   "metadata": {},
   "outputs": [
    {
     "data": {
      "text/plain": [
       "600"
      ]
     },
     "execution_count": 85,
     "metadata": {},
     "output_type": "execute_result"
    }
   ],
   "source": [
    "limit = master.loc[master['type'] == 'limit']['data'].sample()\n",
    "int(limit)*60"
   ]
  },
  {
   "cell_type": "code",
   "execution_count": 84,
   "metadata": {},
   "outputs": [
    {
     "data": {
      "text/plain": [
       "127    5\n",
       "Name: data, dtype: object"
      ]
     },
     "execution_count": 84,
     "metadata": {},
     "output_type": "execute_result"
    }
   ],
   "source": [
    "limit"
   ]
  },
  {
   "cell_type": "markdown",
   "metadata": {},
   "source": [
    "## Testing Timer"
   ]
  },
  {
   "cell_type": "code",
   "execution_count": null,
   "metadata": {},
   "outputs": [],
   "source": [
    "def timer(t):\n",
    "    \"\"\"\n",
    "    starts a countdown timer; enter time in seconds:\n",
    "    1 min = 60\n",
    "    5 min = 300\n",
    "    10 min = 600\n",
    "    15 min = 900\n",
    "    30 min = 1800\n",
    "    1 hr = 3600\n",
    "    \"\"\"\n",
    "    \n",
    "    while t:\n",
    "        mins, secs = divmod(t, 60)\n",
    "        timeformat = '{:02d}:{:02d}'.format(mins, secs)\n",
    "        print(timeformat, end='\\r')\n",
    "        time.sleep(1)\n",
    "        t -= 1\n",
    "    print(\"Time's Up!\\n\\n\\n\\n\\n\")\n",
    "    from playsound import playsound\n",
    "    playsound('mallet.mp3')\n",
    "    "
   ]
  },
  {
   "cell_type": "code",
   "execution_count": null,
   "metadata": {},
   "outputs": [],
   "source": [
    "timer(5)"
   ]
  },
  {
   "cell_type": "code",
   "execution_count": null,
   "metadata": {},
   "outputs": [],
   "source": [
    "with open('lists/animals.csv', newline='', encoding='utf-8-sig') as f1:\n",
    "        reader1 = csv.reader(f1)\n",
    "        animals = list(reader1)\n",
    "\n",
    "with open('lists/plants.csv', newline='', encoding='utf-8-sig') as f2:\n",
    "        reader2 = csv.reader(f2)\n",
    "        plants = list(reader2)\n",
    "\n",
    "with open('lists/objects.csv', newline='', encoding='utf-8-sig') as f3:\n",
    "        reader3 = csv.reader(f3)\n",
    "        objects = list(reader3)\n",
    "\n",
    "with open('lists/schemes.csv', newline='', encoding='utf-8-sig') as f5:\n",
    "        reader5 = csv.reader(f5)\n",
    "        schemes = list(reader5)"
   ]
  },
  {
   "cell_type": "code",
   "execution_count": null,
   "metadata": {},
   "outputs": [],
   "source": [
    "schemes"
   ]
  },
  {
   "cell_type": "code",
   "execution_count": null,
   "metadata": {},
   "outputs": [],
   "source": [
    "ALLSUB = [animals, plants, objects]"
   ]
  },
  {
   "cell_type": "code",
   "execution_count": null,
   "metadata": {},
   "outputs": [],
   "source": [
    "def colorscheme():\n",
    "    \"returns a color scheme\"\n",
    "    print(random.choice(schemes))   "
   ]
  },
  {
   "cell_type": "code",
   "execution_count": null,
   "metadata": {},
   "outputs": [],
   "source": [
    "colorscheme()"
   ]
  },
  {
   "cell_type": "code",
   "execution_count": null,
   "metadata": {},
   "outputs": [],
   "source": [
    "print(random.choice(objects))"
   ]
  },
  {
   "cell_type": "code",
   "execution_count": null,
   "metadata": {},
   "outputs": [],
   "source": [
    "rand = random.choice(ALLSUB)\n",
    "print(random.choice(rand))"
   ]
  },
  {
   "cell_type": "code",
   "execution_count": null,
   "metadata": {},
   "outputs": [],
   "source": [
    "rand = random.choice(ALLSUB)"
   ]
  },
  {
   "cell_type": "code",
   "execution_count": null,
   "metadata": {},
   "outputs": [],
   "source": [
    "rand"
   ]
  },
  {
   "cell_type": "code",
   "execution_count": null,
   "metadata": {},
   "outputs": [],
   "source": [
    "print(random.choice(rand))"
   ]
  },
  {
   "cell_type": "code",
   "execution_count": null,
   "metadata": {},
   "outputs": [],
   "source": [
    "def subject(arg):\n",
    "    \"returns a subject\"\n",
    "\n",
    "    if arg == \"animal\":\n",
    "        print(random.choice(animals))\n",
    "\n",
    "    elif arg == \"plant\":\n",
    "        print(random.choice(plants))\n",
    "\n",
    "    elif arg == \"object\":\n",
    "        print(random.choice(objects))\n",
    "\n",
    "    else:\n",
    "        rand = random.choice(ALLSUB)\n",
    "        print(random.choice(rand))"
   ]
  },
  {
   "cell_type": "code",
   "execution_count": null,
   "metadata": {},
   "outputs": [],
   "source": [
    "subject(\"\")"
   ]
  },
  {
   "cell_type": "code",
   "execution_count": null,
   "metadata": {},
   "outputs": [],
   "source": [
    "from playsound import playsound\n",
    "\n",
    "playsound('mallet.mp3')"
   ]
  },
  {
   "cell_type": "code",
   "execution_count": null,
   "metadata": {},
   "outputs": [
    {
     "name": "stdout",
     "output_type": "stream",
     "text": [
      "iris\n",
      "10 minute(s)\n",
      "triad\n",
      "yellow\n",
      "04:26\r"
     ]
    }
   ],
   "source": [
    "#!/usr/bin/env python\n",
    "\n",
    "\"\"\"\n",
    "A function that generates a random sketch prompt with options:\n",
    "1. subject\n",
    "2. time limit\n",
    "3. color scheme\n",
    "4. main hue\n",
    "\n",
    "Also provides a countdown timer\n",
    "\n",
    "\"\"\"\n",
    "import csv\n",
    "import random\n",
    "import time\n",
    "\n",
    "\n",
    "# Read in lists\n",
    "with open('lists/animals.csv', newline='', encoding='utf-8-sig') as f1:\n",
    "        reader1 = csv.reader(f1)\n",
    "        animals = list(reader1)\n",
    "\n",
    "with open('lists/plants.csv', newline='', encoding='utf-8-sig') as f2:\n",
    "        reader2 = csv.reader(f2)\n",
    "        plants = list(reader2)\n",
    "\n",
    "with open('lists/objects.csv', newline='', encoding='utf-8-sig') as f3:\n",
    "        reader3 = csv.reader(f3)\n",
    "        objects = list(reader3)\n",
    "\n",
    "with open('lists/limits.csv', newline='', encoding='utf-8-sig') as f4:\n",
    "        reader4 = csv.reader(f4)\n",
    "        limits = list(reader4)\n",
    "\n",
    "with open('lists/schemes.csv', newline='', encoding='utf-8-sig') as f5:\n",
    "        reader5 = csv.reader(f5)\n",
    "        schemes = list(reader5)\n",
    "\n",
    "with open('lists/colors.csv', newline='', encoding='utf-8-sig') as f6:\n",
    "        reader6 = csv.reader(f6)\n",
    "        colors = list(reader6)\n",
    "\n",
    "#Define variables\n",
    "ALLSUB = [animals, plants, objects]\n",
    "timeout = []\n",
    "timetosec = {}\n",
    "\n",
    "def prompt(arg):\n",
    "    \"\"\"\n",
    "    returns a sketch prompt\n",
    "    \"\"\"\n",
    "\n",
    "def subject(arg):\n",
    "    \"returns a subject\"\n",
    "\n",
    "    if arg == \"animal\":\n",
    "        print(random.choice(animals))\n",
    "\n",
    "    elif arg == \"plant\":\n",
    "        print(random.choice(plants))\n",
    "\n",
    "    elif arg == \"object\":\n",
    "        print(random.choice(objects))\n",
    "\n",
    "    else:\n",
    "        rand = random.choice(ALLSUB)\n",
    "        print(*random.choice(rand))\n",
    "\n",
    "\n",
    "\n",
    "def timelimit():\n",
    "    \"returns a time limit\"\n",
    "    timelimit.timeout = random.choice(limits)\n",
    "    timelimit.timetosec = int(timelimit.timeout[0])*60\n",
    "    print(timelimit.timeout[0], \"minute(s)\")\n",
    "    \n",
    "\n",
    "def colorscheme():\n",
    "    \"returns a color scheme\"\n",
    "    print(*random.choice(schemes))\n",
    "\n",
    "def color():\n",
    "    \"returns a main color for the color scheme\"\n",
    "    print(*random.choice(colors))  \n",
    "\n",
    "def timer(t):\n",
    "    \"\"\"\n",
    "    starts a countdown timer; enter time in seconds:\n",
    "    1 min = 60\n",
    "    5 min = 300\n",
    "    10 min = 600\n",
    "    15 min = 900\n",
    "    30 min = 1800\n",
    "    1 hr = 3600\n",
    "    ---\n",
    "    Timer requires PyObjC  and playsound modules\n",
    "    pip3 install -U PyObjC\n",
    "    pip3 install playsound\n",
    "    \"\"\"\n",
    "    while t:\n",
    "        mins, secs = divmod(t, 60)\n",
    "        timeformat = '{:02d}:{:02d}'.format(mins, secs)\n",
    "        print(timeformat, end='\\r')\n",
    "        time.sleep(1)\n",
    "        t -= 1\n",
    "    from playsound import playsound\n",
    "    playsound('mallet.mp3')\n",
    "    print(\"Time's Up!\\n\\n\\n\\n\\n\")\n",
    "\n",
    "\n",
    "if __name__ == \"__main__\":\n",
    "    subject(\"\")\n",
    "    timelimit()\n",
    "    colorscheme()\n",
    "    color()\n",
    "    timer(timelimit.timetosec)"
   ]
  },
  {
   "cell_type": "code",
   "execution_count": null,
   "metadata": {},
   "outputs": [],
   "source": [
    "with open('lists/limits.csv', newline='', encoding='utf-8-sig') as f4:\n",
    "        reader4 = csv.reader(f4)\n",
    "        limits = list(reader4)"
   ]
  },
  {
   "cell_type": "code",
   "execution_count": null,
   "metadata": {},
   "outputs": [],
   "source": [
    "limits"
   ]
  },
  {
   "cell_type": "code",
   "execution_count": null,
   "metadata": {},
   "outputs": [],
   "source": []
  },
  {
   "cell_type": "code",
   "execution_count": null,
   "metadata": {},
   "outputs": [],
   "source": []
  },
  {
   "cell_type": "code",
   "execution_count": null,
   "metadata": {},
   "outputs": [],
   "source": [
    "with open('lists/colors.csv', newline='', encoding='utf-8-sig') as f6:\n",
    "        reader6 = csv.reader(f6)\n",
    "        colors = list(reader6)"
   ]
  },
  {
   "cell_type": "code",
   "execution_count": null,
   "metadata": {},
   "outputs": [],
   "source": [
    "timeout=\"\"\n",
    "timetosec={}\n",
    "\n",
    "def timelimit():\n",
    "    \"returns a time limit\"\n",
    "    timeout = random.choice(limits)\n",
    "    timetosec = timeout*60\n",
    "    print(*timeout, \"minute(s)\")"
   ]
  },
  {
   "cell_type": "code",
   "execution_count": null,
   "metadata": {},
   "outputs": [],
   "source": [
    "timelimit()\n",
    "timetosec"
   ]
  },
  {
   "cell_type": "code",
   "execution_count": null,
   "metadata": {},
   "outputs": [],
   "source": [
    "timeout = random.choice(limits)"
   ]
  },
  {
   "cell_type": "code",
   "execution_count": 25,
   "metadata": {},
   "outputs": [
    {
     "name": "stdout",
     "output_type": "stream",
     "text": [
      "minute(s)\n"
     ]
    },
    {
     "data": {
      "text/plain": [
       "900"
      ]
     },
     "execution_count": 25,
     "metadata": {},
     "output_type": "execute_result"
    }
   ],
   "source": [
    "timeout = []\n",
    "timetosec = {}\n",
    "\n",
    "def timelimit():\n",
    "    \"returns a time limit\"\n",
    "    timelimit.timeout = random.choice(limits)\n",
    "    timelimit.timetosec = int(timelimit.timeout[0])*60\n",
    "    print(*timeout, \"minute(s)\")\n",
    "\n",
    "def timer(t):\n",
    "    \"\"\"\n",
    "    starts a countdown timer; enter time in seconds:\n",
    "    1 min = 60\n",
    "    5 min = 300\n",
    "    10 min = 600\n",
    "    15 min = 900\n",
    "    30 min = 1800\n",
    "    1 hr = 3600\n",
    "    ---\n",
    "    Timer requires PyObjC  and playsound modules\n",
    "    pip3 install -U PyObjC\n",
    "    pip3 install playsound\n",
    "    \"\"\"\n",
    "    while t:\n",
    "        mins, secs = divmod(t, 60)\n",
    "        timeformat = '{:02d}:{:02d}'.format(mins, secs)\n",
    "        print(timeformat, end='\\r')\n",
    "        time.sleep(1)\n",
    "        t -= 1\n",
    "    from playsound import playsound\n",
    "    playsound('mallet.mp3')\n",
    "    print(\"Time's Up!\\n\\n\\n\\n\\n\")   \n",
    "    \n",
    "timelimit()\n",
    "timelimit.timetosec"
   ]
  },
  {
   "cell_type": "code",
   "execution_count": 23,
   "metadata": {},
   "outputs": [
    {
     "data": {
      "text/plain": [
       "1"
      ]
     },
     "execution_count": 23,
     "metadata": {},
     "output_type": "execute_result"
    }
   ],
   "source": [
    "int(timelimit.timeout[0])"
   ]
  },
  {
   "cell_type": "code",
   "execution_count": null,
   "metadata": {},
   "outputs": [],
   "source": [
    "str = timelimit.timeout[0]"
   ]
  },
  {
   "cell_type": "code",
   "execution_count": null,
   "metadata": {},
   "outputs": [],
   "source": []
  },
  {
   "cell_type": "code",
   "execution_count": null,
   "metadata": {},
   "outputs": [],
   "source": []
  },
  {
   "cell_type": "code",
   "execution_count": 1,
   "metadata": {},
   "outputs": [],
   "source": [
    "string = \"10\""
   ]
  },
  {
   "cell_type": "code",
   "execution_count": 2,
   "metadata": {},
   "outputs": [
    {
     "data": {
      "text/plain": [
       "'10'"
      ]
     },
     "execution_count": 2,
     "metadata": {},
     "output_type": "execute_result"
    }
   ],
   "source": [
    "string\n"
   ]
  },
  {
   "cell_type": "code",
   "execution_count": 3,
   "metadata": {},
   "outputs": [
    {
     "data": {
      "text/plain": [
       "10"
      ]
     },
     "execution_count": 3,
     "metadata": {},
     "output_type": "execute_result"
    }
   ],
   "source": [
    "int(string)"
   ]
  },
  {
   "cell_type": "code",
   "execution_count": null,
   "metadata": {},
   "outputs": [],
   "source": []
  }
 ],
 "metadata": {
  "kernelspec": {
   "display_name": "Python 3",
   "language": "python",
   "name": "python3"
  },
  "language_info": {
   "codemirror_mode": {
    "name": "ipython",
    "version": 3
   },
   "file_extension": ".py",
   "mimetype": "text/x-python",
   "name": "python",
   "nbconvert_exporter": "python",
   "pygments_lexer": "ipython3",
   "version": "3.8.6"
  }
 },
 "nbformat": 4,
 "nbformat_minor": 4
}
